{
 "cells": [
  {
   "cell_type": "code",
   "execution_count": 1,
   "metadata": {},
   "outputs": [
    {
     "data": {
      "text/markdown": [
       "[John R. Kitchin](https://openalex.org/A4330425867), *Examples of Effective Data Sharing in Scientific Publishing*, **[ACS Catalysis](https://openalex.org/S37391459)**, 5, 63894-3899, (2015), https://doi.org/10.1021/acscatal.5b00538. cited by: 18. [Open Alex](https://openalex.org/W2288114809)<br>![img](data:image/png;base64,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)"
      ],
      "text/plain": [
       "John R. Kitchin, Examples of Effective Data Sharing in Scientific Publishing, 5, 63894-3899, (2015), https://doi.org/10.1021/acscatal.5b00538. cited by: 18. https://openalex.org/W2288114809"
      ]
     },
     "execution_count": 1,
     "metadata": {},
     "output_type": "execute_result"
    }
   ],
   "source": [
    "from s23oa import Works\n",
    "\n",
    "w = Works(\"https://doi.org/10.1021/acscatal.5b00538\")\n",
    "w"
   ]
  },
  {
   "cell_type": "code",
   "execution_count": 2,
   "metadata": {},
   "outputs": [
    {
     "data": {
      "text/html": [
       "<pre>TY  - JOUR\n",
       "AU  - John R. Kitchin\n",
       "PY  - 2015\n",
       "TI  - Examples of Effective Data Sharing in Scientific Publishing\n",
       "JO  - ACS Catalysis\n",
       "VL  - 5\n",
       "IS  - 6\n",
       "SP  - 3894\n",
       "EP  - 3899\n",
       "DO  - https://doi.org/10.1021/acscatal.5b00538\n",
       "ER  -</pre><br><a href=\"data:text/plain;base64,VFkgIC0gSk9VUgpBVSAgLSBKb2huIFIuIEtpdGNoaW4KUFkgIC0gMjAxNQpUSSAgLSBFeGFtcGxlcyBvZiBFZmZlY3RpdmUgRGF0YSBTaGFyaW5nIGluIFNjaWVudGlmaWMgUHVibGlzaGluZwpKTyAgLSBBQ1MgQ2F0YWx5c2lzClZMICAtIDUKSVMgIC0gNgpTUCAgLSAzODk0CkVQICAtIDM4OTkKRE8gIC0gaHR0cHM6Ly9kb2kub3JnLzEwLjEwMjEvYWNzY2F0YWwuNWIwMDUzOApFUiAgLQ==\" download=\"ris\">Download RIS</a>"
      ],
      "text/plain": [
       "<IPython.core.display.HTML object>"
      ]
     },
     "metadata": {},
     "output_type": "display_data"
    },
    {
     "data": {
      "text/plain": [
       "'TY  - JOUR\\nAU  - John R. Kitchin\\nPY  - 2015\\nTI  - Examples of Effective Data Sharing in Scientific Publishing\\nJO  - ACS Catalysis\\nVL  - 5\\nIS  - 6\\nSP  - 3894\\nEP  - 3899\\nDO  - https://doi.org/10.1021/acscatal.5b00538\\nER  -'"
      ]
     },
     "execution_count": 2,
     "metadata": {},
     "output_type": "execute_result"
    }
   ],
   "source": [
    "w.ris"
   ]
  },
  {
   "cell_type": "code",
   "execution_count": null,
   "metadata": {},
   "outputs": [],
   "source": []
  }
 ],
 "metadata": {
  "kernelspec": {
   "display_name": "Python 3",
   "language": "python",
   "name": "python3"
  },
  "language_info": {
   "codemirror_mode": {
    "name": "ipython",
    "version": 3
   },
   "file_extension": ".py",
   "mimetype": "text/x-python",
   "name": "python",
   "nbconvert_exporter": "python",
   "pygments_lexer": "ipython3",
   "version": "3.9.7"
  }
 },
 "nbformat": 4,
 "nbformat_minor": 4
}
